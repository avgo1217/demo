{
 "cells": [
  {
   "cell_type": "markdown",
   "metadata": {},
   "source": [
    "# Capstone Exercises\n",
    "    "
   ]
  },
  {
   "cell_type": "markdown",
   "metadata": {},
   "source": [
    "### 1. Create a bank account\n",
    "Object oriented programming is an integral part of any development project. Now that you have been introduced to the fundamentals, this capstone exercise will dive deeper into the topic of classes. In this exercise, you will create a bank account, conduct deposits, conduct withdrawals, transfer funds, and track transaction history. \n",
    "\n",
    "Complete the missing code in the class <b>BankAccount</b> and add in an additional function called <b>transfer_funds</b> to transfer balances between different accounts."
   ]
  },
  {
   "cell_type": "code",
   "execution_count": null,
   "metadata": {
    "collapsed": true
   },
   "outputs": [],
   "source": [
    "class BankAccount:\n",
    "    \"\"\"\n",
    "    A BankAccount class is a single bank account\n",
    " \n",
    " \n",
    "    :param first_name: First name of the account holder\n",
    "    :param last_name: Last name of the account holder\n",
    "    :param balance: Total balance of a bank account\n",
    "    \"\"\"\n",
    " \n",
    "    def __init__(self, first_name, last_name, initial_balance = None):\n",
    "        # Initialize instance variables below. Notice self.balance is provided for you to show an example of initiating when \n",
    "        # an argument is not defined and we want to provide a default value. Note the initial_balance = None.\n",
    "        ## CODE HERE ##\n",
    "            \n",
    "    def deposit(self, deposit_amount):\n",
    "        # Define logic for adding a deposit \n",
    "        ## CODE HERE ##\n",
    " \n",
    "    def withdraw(self, withdraw_amount):\n",
    "        # Define logic for withdrawing from the account\n",
    "        # If the withdrawal ammount is less than the account balance print an error statement that also shows how much balance\n",
    "        # remains.\n",
    "        ## CODE HERE ##\n",
    " \n",
    "    def transfer_funds(self, transfer_amount, recipient):\n",
    "        # Define logic for transferring funds from this BankAccount instance to a different BankAccount instance\n",
    "        # You should check to make sure you have sufficient funds, similar to withdraw, and throw an error message if not.\n",
    "        # Also remember to change the recipient's balance to reflect the transfer as well.\n",
    "        ## CODE HERE ##\n",
    " \n",
    "    # The __repr__ method simply tells Python how to print objects of a class. We've overridden that method here\n",
    "    # to customize how we want to show the class\n",
    "    def __repr__(self):\n",
    "        representation = \"{account_name}: {balance}\".format(\n",
    "            account_name = self.last_name + \", \" + self.first_name,\n",
    "            balance = self.balance\n",
    "        )\n",
    "        return representation"
   ]
  },
  {
   "cell_type": "markdown",
   "metadata": {},
   "source": [
    "Run the code below to create two accounts, <b>account1</b> and <b>account2</b>. The code will also deposit, withdraw, and transfer money to both accounts. Notice anything funny when <b>account1</b> tries to withdraw? Lastly, the account balances should equal the printed product below:\n",
    "\n",
    "`You do not have sufficient funds in your bank account to withdraw. The withdrawal has not completed. Your balance remains at 200.\n",
    "You do not have sufficient funds in your bank account to transfer. The transfer has not completed. Your balance remains at 1000.\n",
    "Jenkins, Luke: 500\n",
    "Jensen, Lisa: 700`"
   ]
  },
  {
   "cell_type": "code",
   "execution_count": null,
   "metadata": {},
   "outputs": [],
   "source": [
    "# Create two bank accounts\n",
    "account1 = BankAccount('Luke', 'Jenkins')\n",
    "account2 = BankAccount('Lisa','Jensen',1100)\n",
    "\n",
    "# Deposit and Withdraw balances\n",
    "account1.deposit(200)\n",
    "account1.withdraw(2000)\n",
    "account2.withdraw(100)\n",
    "\n",
    "# Transfer from Lisa to Luke\n",
    "account2.transfer_funds(5000, account1)\n",
    "account2.transfer_funds(300, account1)\n",
    "\n",
    "#Check balances\n",
    "print(account1)\n",
    "print(account2)"
   ]
  },
  {
   "cell_type": "markdown",
   "metadata": {},
   "source": [
    "### 2. Create a subclass for a savings account\n",
    "Create another account, <b>SavingsAccount</b> as a subclass of <b>BankAccount</b>. Wihthin this subclass, you should be able to do the following:\n",
    "<ol>\n",
    "    <li>Initialize the SavingsAccount instance by initializing the superclass.</li>\n",
    "    <li>Make sure that you also create a new variable to track the number of withdrawals left. </li>\n",
    "    <li>Override the withdraw method to also throw an error message when with withdrawal limit has been exceeded.</li>\n",
    "    <li>Override the __repr__ method to also print withdrawals remaining on top of what is printed for BankAccount.</li>\n",
    "</ol>\n",
    "\n",
    "Code to test your solution can be found below, with what the expected result should look like.    "
   ]
  },
  {
   "cell_type": "code",
   "execution_count": null,
   "metadata": {
    "collapsed": true
   },
   "outputs": [],
   "source": [
    "class SavingsAccount(BankAccount):\n",
    "    \"\"\"\n",
    "    A SavingsAccount extends BankAccount and has a limited number of withdrawals\n",
    " \n",
    " \n",
    "    :param first_name: First name of the account holder\n",
    "    :param last_name: Last name of the account holder\n",
    "    :param balance: Total balance of a bank account\n",
    "    \"\"\"\n",
    "    def __init__(self, first_name, last_name, balance):\n",
    "        # Initialize the SavingsAccount instance by initializing the superclass\n",
    "        # Set a withdraw_count variable to 5\n",
    "        super().__init__(first_name, last_name, balance)\n",
    "        self.withdraw_count = 5\n",
    " \n",
    "    # The subclass SavingsAccount inherits the superclasses BankAccount’s functions (e.g., withdraw, transfer_funds). \n",
    "    # However, a function can be overridden, which we should do below.\n",
    "    def withdraw(self, withdraw_amount):\n",
    "        \"\"\"\n",
    "        Withdraws a certain amount from balances\n",
    " \n",
    "        :param withdraw_amount: amount withdrawn\n",
    "        :return:\n",
    "        \"\"\"\n",
    "        # Define logic for withdrawing from the account\n",
    "        # If the withdrawal ammount is less than the account balance print an error statement\n",
    "        # If the number of withdrawals exceeds the withdraw_count, also disallow and print an error statement\n",
    "        if self.balance < withdraw_amount:\n",
    "            print(\"You do not have sufficient funds in your bank account to withdraw. The withdrawal has not completed. \"+\n",
    "            \"Your balance remains at {balance}.\".format(balance = self.balance))\n",
    "        elif self.withdraw_count == 0:\n",
    "            print(\"You have exceeded your withdrawal limit on this account.\")\n",
    "        \n",
    "        # Write an else statement to address\n",
    "        # when you withdraw, you withdraw from balance and decrease the withdrawal count by 1\n",
    "        ## CODE HERE ##\n",
    " \n",
    "    def __repr__(self):\n",
    "        representation = \"{account_name}: {balance}\\n\" \\\n",
    "                         \"Number of withdrawals remaining: {withdrawals}\".format(\n",
    "            account_name = self.last_name + \", \" + self.first_name,\n",
    "            balance = self.balance,\n",
    "            withdrawals = self.withdraw_count\n",
    "        )\n",
    "        return representation"
   ]
  },
  {
   "cell_type": "markdown",
   "metadata": {},
   "source": [
    "Run this code to create <b>account1</b>, an instance of SavingsAccount. After you run this code, you should get the results:\n",
    "\n",
    "`You do not have sufficient funds in your bank account to withdraw. The withdrawal has not completed. Your balance remains at 400.\n",
    "Jenkins, Luke: 400\n",
    "Number of withdrawals remaining: 2\n",
    "You have exceeded your withdrawal limit on this account.\n",
    "Jenkins, Luke: 200\n",
    "Number of withdrawals remaining: 0`"
   ]
  },
  {
   "cell_type": "code",
   "execution_count": null,
   "metadata": {},
   "outputs": [],
   "source": [
    "# Create one SavingsAccount object, account1   \n",
    "account1 = SavingsAccount('Luke', 'Jenkins', 1000)\n",
    "\n",
    "# Withdraw more than what's in savings account to ensure balance check still works\n",
    "# Print the account balance of your SavingsAccount object after these withdrawals\n",
    "account1.withdraw(200)\n",
    "account1.withdraw(200)\n",
    "account1.withdraw(200)\n",
    "account1.withdraw(2000)\n",
    "print(account1)\n",
    "\n",
    "# Withdraw more times than the limit allows to ensure withdrawal limit check works\n",
    "# Print the account balance of your SavingsAccount object after you exceed the withdrawal limit \n",
    "account1.withdraw(100)\n",
    "account1.withdraw(100)\n",
    "account1.withdraw(100)\n",
    "print(account1)"
   ]
  },
  {
   "cell_type": "markdown",
   "metadata": {},
   "source": [
    "### 3. Restructure BankAccount to track transaction history\n",
    "Fix the class <b>BankAccount</b> so that it can track all transaction history. Use the provided code for the deposit action to define the logic for withdrawing from the account and transferring funds. You'll need pandas for this one."
   ]
  },
  {
   "cell_type": "code",
   "execution_count": null,
   "metadata": {
    "collapsed": true
   },
   "outputs": [],
   "source": [
    "import pandas as pd\n",
    "\n",
    "class BankAccount:\n",
    "    \"\"\"\n",
    "    A BankAccount class is a single bank account\n",
    " \n",
    " \n",
    "    :param first_name: First name of the account holder\n",
    "    :param last_name: Last name of the account holder\n",
    "    :param balance: Total balance of a bank account\n",
    "    \"\"\"\n",
    " \n",
    "    def __init__(self, first_name, last_name, initial_balance = None):\n",
    "        # Initialize BankAccount instance variables and create a transactions DataFrame to track transaction history. We've\n",
    "        # generated the code for initializing the dataframe to help get you started.\n",
    "        ## CODE HERE ##\n",
    " \n",
    "    def deposit(self, deposit_amount):\n",
    "        self.balance += deposit_amount\n",
    "        # Figure out a way to add a new row of data to record the transaction. Here, the amount would be the deposit_amount,\n",
    "        # transaction_type would be \"Deposit\", and 'timestamp' should be pd.Timestamp.now().\n",
    "        # Hint: Look to use DataFrame.append or DataFrame.loc\n",
    "        ## CODE HERE ##\n",
    "        \n",
    "    def withdraw(self, withdraw_amount):\n",
    "        if self.balance < withdraw_amount:\n",
    "            print(\"You do not have sufficient funds in your bank account to withdraw. The withdrawal has not completed. \"+\n",
    "            \"Your balance remains at {balance}.\".format(balance = self.balance))\n",
    "        else:\n",
    "            self.balance -= withdraw_amount\n",
    "            # Figure out a way to add a new row of data to record the transaction.\n",
    "            ## CODE HERE ##\n",
    " \n",
    "    def transfer_funds(self, transfer_amount, recipient):\n",
    "        if self.balance < transfer_amount:\n",
    "            print(\"You do not have sufficient funds in your bank account to transfer. The transfer has not completed. \"+\n",
    "            \"Your balance remains at {balance}.\".format(balance = self.balance))\n",
    "        else:\n",
    "            self.balance -= transfer_amount\n",
    "            recipient.balance += transfer_amount\n",
    "            # Figure out a way to add a new row of data to record the transaction. Don't forget to update the recipient's\n",
    "            # transaction as well!\n",
    "            ## CODE HERE ##\n",
    "     \n",
    "    # Write a function 'transaction_history' that would show all transactions made\n",
    "    def transaction_history(self):\n",
    "        print(self.transactions)\n",
    " \n",
    "    # The __repr__ method simply tells Python how to print objects of a class. We've overridden that method here\n",
    "    # to customize how we want to show the class\n",
    "    def __repr__(self):\n",
    "        representation = \"{account_name}: {balance}\".format(\n",
    "            account_name = self.last_name + \", \" + self.first_name,\n",
    "            balance = self.balance\n",
    "        )\n",
    "        return representation"
   ]
  },
  {
   "cell_type": "markdown",
   "metadata": {},
   "source": [
    "Run transactions and retrieve transaction history. When you run it you should get this result, with variation in timestamps:\n",
    "\n",
    "`Jenkins, Luke: 900\n",
    "Jensen, Lisa: 1450\n",
    "  amount   transaction_type                  timestamp\n",
    "0    200            Deposit 2017-12-13 00:00:12.977706\n",
    "1    600           Withdraw 2017-12-13 00:00:12.982717\n",
    "2    300  Transfer Received 2017-12-13 00:00:12.998761\n",
    "  amount transaction_type                  timestamp\n",
    "0    250         Withdraw 2017-12-13 00:00:12.987733\n",
    "1    300    Transfer Sent 2017-12-13 00:00:12.991743`"
   ]
  },
  {
   "cell_type": "code",
   "execution_count": null,
   "metadata": {},
   "outputs": [],
   "source": [
    "# Create two bank accounts\n",
    "account1 = BankAccount('Luke','Jenkins', 1000)\n",
    "account2 = BankAccount('Lisa','Jensen', 2000)\n",
    "\n",
    "# Deposit and Withdraw balances\n",
    "account1.deposit(200)\n",
    "account1.withdraw(600)\n",
    "account2.withdraw(250)\n",
    "\n",
    "# Transfer $300 from Lisa to Luke\n",
    "account2.transfer_funds(300, account1)\n",
    "\n",
    "#Check balances\n",
    "print(account1)\n",
    "print(account2)\n",
    "\n",
    "print(account1.transactions)\n",
    "print(account2.transactions)"
   ]
  }
 ],
 "metadata": {
  "kernelspec": {
   "display_name": "Python 3",
   "language": "python",
   "name": "python3"
  },
  "language_info": {
   "codemirror_mode": {
    "name": "ipython",
    "version": 3
   },
   "file_extension": ".py",
   "mimetype": "text/x-python",
   "name": "python",
   "nbconvert_exporter": "python",
   "pygments_lexer": "ipython3",
   "version": "3.6.1"
  }
 },
 "nbformat": 4,
 "nbformat_minor": 2
}
